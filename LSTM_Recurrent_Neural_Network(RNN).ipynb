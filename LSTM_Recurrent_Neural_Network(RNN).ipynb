{
  "nbformat": 4,
  "nbformat_minor": 0,
  "metadata": {
    "colab": {
      "provenance": []
    },
    "kernelspec": {
      "name": "python3",
      "display_name": "Python 3"
    },
    "language_info": {
      "name": "python"
    }
  },
  "cells": [
    {
      "cell_type": "markdown",
      "source": [],
      "metadata": {
        "id": "N9sTENUQlEYI"
      }
    },
    {
      "cell_type": "markdown",
      "source": [
        "**Recurrent Neural Network(RNN)**\n"
      ],
      "metadata": {
        "id": "Z0qq8YKAGJ5H"
      }
    },
    {
      "cell_type": "markdown",
      "source": [
        "https://sebastianraschka.com/blog/2020/intro-to-dl-ch01.html"
      ],
      "metadata": {
        "id": "yS6fh6AOjJFN"
      }
    },
    {
      "cell_type": "markdown",
      "source": [
        "https://medium.datadriveninvestor.com/a-high-level-introduction-to-lstms-34f81bfa262d"
      ],
      "metadata": {
        "id": "CCo3Ti1vmoiH"
      }
    },
    {
      "cell_type": "markdown",
      "source": [
        "https://towardsdatascience.com/machine-learning-for-beginners-an-introduction-to-neural-networks-d49f22d238f9"
      ],
      "metadata": {
        "id": "f6MINFHulDX2"
      }
    },
    {
      "cell_type": "markdown",
      "source": [
        "## **Load packages**"
      ],
      "metadata": {
        "id": "Ih6edHrnGY7O"
      }
    },
    {
      "cell_type": "code",
      "source": [
        "import tensorflow as tf\n",
        "from tensorflow.keras.datasets import imdb\n",
        "from tensorflow.keras.layers import Embedding, Dense, LSTM\n",
        "from tensorflow.keras.losses import BinaryCrossentropy\n",
        "from tensorflow.keras.models import Sequential\n",
        "from tensorflow.keras.optimizers import Adam\n",
        "from tensorflow.keras.preprocessing.sequence import pad_sequences\n",
        "import matplotlib.pyplot as plt"
      ],
      "metadata": {
        "id": "WHMroY_HGYgQ"
      },
      "execution_count": null,
      "outputs": []
    },
    {
      "cell_type": "markdown",
      "source": [
        "Here, we try to import liabraries from tensorflow."
      ],
      "metadata": {
        "id": "pw4BRzq-zgsM"
      }
    },
    {
      "cell_type": "markdown",
      "source": [
        "## **Load Dataset**\n",
        "movie reviews"
      ],
      "metadata": {
        "id": "fhfwUUGNkWPN"
      }
    },
    {
      "cell_type": "code",
      "source": [
        "(x_train, y_train), (x_test, y_test) = imdb.load_data(num_words=5000)"
      ],
      "metadata": {
        "id": "_YFc96QHkbwV"
      },
      "execution_count": null,
      "outputs": []
    },
    {
      "cell_type": "markdown",
      "source": [
        "Here, try to download the dataset and load it here and devide the dataset into part in train and test. and try to load data using the load_data() with parameter number of words id 5000.\n",
        "\n",
        "---\n",
        "\n"
      ],
      "metadata": {
        "id": "dENRLuzB1xKk"
      }
    },
    {
      "cell_type": "code",
      "source": [
        "x_train.shape"
      ],
      "metadata": {
        "id": "MtjwsHzOndyW",
        "colab": {
          "base_uri": "https://localhost:8080/"
        },
        "outputId": "593ccf5b-4502-4c7e-aa8a-86449e6daab3"
      },
      "execution_count": null,
      "outputs": [
        {
          "output_type": "execute_result",
          "data": {
            "text/plain": [
              "(25000,)"
            ]
          },
          "metadata": {},
          "execution_count": 39
        }
      ]
    },
    {
      "cell_type": "code",
      "source": [
        "padded_inputs = pad_sequences(x_train, maxlen=300, value = 0.0)\n",
        "padded_inputs_test = pad_sequences(x_test, maxlen=300, value = 0.0)"
      ],
      "metadata": {
        "id": "Q74VbXOIkj7e"
      },
      "execution_count": null,
      "outputs": []
    },
    {
      "cell_type": "markdown",
      "source": [
        "here, we try to pad the sequences of the x_train and set the maximum length 300 and value is 0.0 and for x_test pad sequence for x_test set the maximum length to 300 and value is 0.0."
      ],
      "metadata": {
        "id": "LIm-24yKMFp3"
      }
    },
    {
      "cell_type": "code",
      "source": [
        "padded_inputs.shape"
      ],
      "metadata": {
        "id": "MwRDxRDGSdNw",
        "colab": {
          "base_uri": "https://localhost:8080/"
        },
        "outputId": "046b06b7-19f4-45ef-8aa1-eb00838d93e5"
      },
      "execution_count": null,
      "outputs": [
        {
          "output_type": "execute_result",
          "data": {
            "text/plain": [
              "(25000, 300)"
            ]
          },
          "metadata": {},
          "execution_count": 41
        }
      ]
    },
    {
      "cell_type": "markdown",
      "source": [
        "## **Build model**"
      ],
      "metadata": {
        "id": "cVJcuDWMnDZB"
      }
    },
    {
      "cell_type": "code",
      "source": [
        "model = Sequential()\n",
        "model.add(Embedding(5000, 15, input_length=300))\n",
        "model.add(LSTM(10))\n",
        "model.add(Dense(1, activation='sigmoid'))"
      ],
      "metadata": {
        "id": "NdAFulnUnNOr"
      },
      "execution_count": null,
      "outputs": []
    },
    {
      "cell_type": "markdown",
      "source": [
        "The model needs to know what input shape it should expect. For this reason, the first layer in a Sequential model needs to receive information about its input shape. here first we sequential the model and in the model add embedding dence to 5000 and input dim is 15 and input length is 300. now we add the lstm set is 10.and finallly activate the sigmoid."
      ],
      "metadata": {
        "id": "pP70udIzOVsg"
      }
    },
    {
      "cell_type": "code",
      "source": [
        "model.summary()"
      ],
      "metadata": {
        "id": "e-DwieQxrKs2",
        "colab": {
          "base_uri": "https://localhost:8080/"
        },
        "outputId": "f1d65790-fa8a-488b-ec66-f39054323dd0"
      },
      "execution_count": null,
      "outputs": [
        {
          "output_type": "stream",
          "name": "stdout",
          "text": [
            "Model: \"sequential_3\"\n",
            "_________________________________________________________________\n",
            " Layer (type)                Output Shape              Param #   \n",
            "=================================================================\n",
            " embedding_3 (Embedding)     (None, 300, 15)           75000     \n",
            "                                                                 \n",
            " lstm_3 (LSTM)               (None, 10)                1040      \n",
            "                                                                 \n",
            " dense_3 (Dense)             (None, 1)                 11        \n",
            "                                                                 \n",
            "=================================================================\n",
            "Total params: 76,051\n",
            "Trainable params: 76,051\n",
            "Non-trainable params: 0\n",
            "_________________________________________________________________\n"
          ]
        }
      ]
    },
    {
      "cell_type": "markdown",
      "source": [
        "Here is the model summary for lstm and dense. where total parameters are 76,051 and trainabl parameter are 76,051 and Non-trainable is 0."
      ],
      "metadata": {
        "id": "UuEBVkzkPZJA"
      }
    },
    {
      "cell_type": "markdown",
      "source": [
        "## **Train model**"
      ],
      "metadata": {
        "id": "KUMhNGvarKcK"
      }
    },
    {
      "cell_type": "code",
      "source": [
        "model.compile(optimizer=Adam(), loss=BinaryCrossentropy(), metrics=['accuracy'])"
      ],
      "metadata": {
        "id": "bmpaPiCBq-gu"
      },
      "execution_count": null,
      "outputs": []
    },
    {
      "cell_type": "markdown",
      "source": [
        "here we compile the  model using the Adam optimizer and  set the loss as BinaryCrossentropy() and use the accuracy metric."
      ],
      "metadata": {
        "id": "_ZmPOBdePsrj"
      }
    },
    {
      "cell_type": "code",
      "source": [
        "history = model.fit(padded_inputs, y_train, batch_size=128, epochs=18, verbose=1, validation_split=0.2)"
      ],
      "metadata": {
        "id": "s9x4fjjjrcZz",
        "colab": {
          "base_uri": "https://localhost:8080/"
        },
        "outputId": "f3ca60a4-6dc6-41a7-a5ef-af6d61783d60"
      },
      "execution_count": null,
      "outputs": [
        {
          "output_type": "stream",
          "name": "stdout",
          "text": [
            "Epoch 1/18\n",
            "157/157 [==============================] - 19s 124ms/step - loss: 0.0385 - accuracy: 0.9905 - val_loss: 0.5838 - val_accuracy: 0.8534\n",
            "Epoch 2/18\n",
            "157/157 [==============================] - 19s 124ms/step - loss: 0.0344 - accuracy: 0.9922 - val_loss: 0.6344 - val_accuracy: 0.8530\n",
            "Epoch 3/18\n",
            "157/157 [==============================] - 19s 124ms/step - loss: 0.0311 - accuracy: 0.9929 - val_loss: 0.6613 - val_accuracy: 0.8532\n",
            "Epoch 4/18\n",
            "157/157 [==============================] - 19s 123ms/step - loss: 0.0276 - accuracy: 0.9939 - val_loss: 0.6770 - val_accuracy: 0.8526\n",
            "Epoch 5/18\n",
            "157/157 [==============================] - 20s 125ms/step - loss: 0.0241 - accuracy: 0.9948 - val_loss: 0.7077 - val_accuracy: 0.8542\n",
            "Epoch 6/18\n",
            "157/157 [==============================] - 20s 125ms/step - loss: 0.0219 - accuracy: 0.9949 - val_loss: 0.7263 - val_accuracy: 0.8528\n",
            "Epoch 7/18\n",
            "157/157 [==============================] - 20s 130ms/step - loss: 0.0207 - accuracy: 0.9954 - val_loss: 0.7379 - val_accuracy: 0.8520\n",
            "Epoch 8/18\n",
            "157/157 [==============================] - 20s 124ms/step - loss: 0.0195 - accuracy: 0.9958 - val_loss: 0.7770 - val_accuracy: 0.8514\n",
            "Epoch 9/18\n",
            "157/157 [==============================] - 20s 126ms/step - loss: 0.0183 - accuracy: 0.9959 - val_loss: 0.7697 - val_accuracy: 0.8516\n",
            "Epoch 10/18\n",
            "157/157 [==============================] - 20s 124ms/step - loss: 0.0191 - accuracy: 0.9959 - val_loss: 0.7784 - val_accuracy: 0.8498\n",
            "Epoch 11/18\n",
            "157/157 [==============================] - 19s 124ms/step - loss: 0.0467 - accuracy: 0.9872 - val_loss: 0.7456 - val_accuracy: 0.8502\n",
            "Epoch 12/18\n",
            "157/157 [==============================] - 20s 125ms/step - loss: 0.0507 - accuracy: 0.9857 - val_loss: 0.7764 - val_accuracy: 0.8474\n",
            "Epoch 13/18\n",
            "157/157 [==============================] - 20s 126ms/step - loss: 0.0552 - accuracy: 0.9850 - val_loss: 0.7727 - val_accuracy: 0.8454\n",
            "Epoch 14/18\n",
            "157/157 [==============================] - 20s 129ms/step - loss: 0.0365 - accuracy: 0.9897 - val_loss: 0.7383 - val_accuracy: 0.8464\n",
            "Epoch 15/18\n",
            "157/157 [==============================] - 20s 126ms/step - loss: 0.0228 - accuracy: 0.9950 - val_loss: 0.7561 - val_accuracy: 0.8506\n",
            "Epoch 16/18\n",
            "157/157 [==============================] - 19s 124ms/step - loss: 0.0217 - accuracy: 0.9949 - val_loss: 0.7726 - val_accuracy: 0.8452\n",
            "Epoch 17/18\n",
            "157/157 [==============================] - 19s 124ms/step - loss: 0.0200 - accuracy: 0.9955 - val_loss: 0.8131 - val_accuracy: 0.8462\n",
            "Epoch 18/18\n",
            "157/157 [==============================] - 20s 125ms/step - loss: 0.0161 - accuracy: 0.9965 - val_loss: 0.8665 - val_accuracy: 0.8474\n"
          ]
        }
      ]
    },
    {
      "cell_type": "markdown",
      "source": [
        "Here, we try to change the epoche from 10 to 15 and check that model is fit or not."
      ],
      "metadata": {
        "id": "7O28f6mDQAR8"
      }
    },
    {
      "cell_type": "markdown",
      "source": [
        "## **Evaluate model**"
      ],
      "metadata": {
        "id": "zSfwZo7kr4sm"
      }
    },
    {
      "cell_type": "markdown",
      "source": [
        "### **print accuarcy and loss on test dataset**"
      ],
      "metadata": {
        "id": "NKcwQU6AUHxn"
      }
    },
    {
      "cell_type": "code",
      "source": [
        "test_loss, test_acc = model.evaluate(padded_inputs_test, y_test, verbose=False)\n",
        "print(\"accuarcy of test dataset:\"+str(test_acc))\n",
        "print(\"loss of test dataset:\"+str(test_loss))"
      ],
      "metadata": {
        "id": "vDt6u83hr-f2",
        "colab": {
          "base_uri": "https://localhost:8080/"
        },
        "outputId": "0fa67c07-b4b5-4780-bfd3-016e40af2ae8"
      },
      "execution_count": null,
      "outputs": [
        {
          "output_type": "stream",
          "name": "stdout",
          "text": [
            "accuarcy of test dataset:0.8452399969100952\n",
            "loss of test dataset:0.8954957723617554\n"
          ]
        }
      ]
    },
    {
      "cell_type": "markdown",
      "source": [
        "### **plot accuracy of each epoch on train and test dataset**"
      ],
      "metadata": {
        "id": "Lpykl_K2VFFS"
      }
    },
    {
      "cell_type": "code",
      "source": [
        "plt.plot(history.history['accuracy'], label='accuracy')\n",
        "plt.plot(history.history['val_accuracy'], label = 'val_accuracy')\n",
        "plt.xlabel('Epoch')\n",
        "plt.ylabel('Accuracy')\n",
        "plt.ylim([0.5, 1])\n",
        "plt.legend(loc='lower right')"
      ],
      "metadata": {
        "id": "ysOOdfqbv-VE",
        "colab": {
          "base_uri": "https://localhost:8080/",
          "height": 300
        },
        "outputId": "572e14e1-b7cb-4ce7-a1b7-5b092151edc2"
      },
      "execution_count": null,
      "outputs": [
        {
          "output_type": "execute_result",
          "data": {
            "text/plain": [
              "<matplotlib.legend.Legend at 0x7f0a15e53e90>"
            ]
          },
          "metadata": {},
          "execution_count": 52
        },
        {
          "output_type": "display_data",
          "data": {
            "text/plain": [
              "<Figure size 432x288 with 1 Axes>"
            ],
            "image/png": "[encoded data removed]"
          },
          "metadata": {
            "needs_background": "light"
          }
        }
      ]
    },
    {
      "cell_type": "markdown",
      "source": [
        "### **plot loss of each epoch on train and test dataset**"
      ],
      "metadata": {
        "id": "Mzk4v-kKVLAb"
      }
    },
    {
      "cell_type": "code",
      "source": [
        "plt.plot(history.history['loss'], label='loss')\n",
        "plt.plot(history.history['val_loss'], label = 'val_loss')\n",
        "plt.xlabel('Epoch')\n",
        "plt.ylabel('loss')\n",
        "plt.ylim([0.5, 1])\n",
        "plt.legend(loc='lower right')"
      ],
      "metadata": {
        "id": "igNU_JuAVUIC",
        "colab": {
          "base_uri": "https://localhost:8080/",
          "height": 300
        },
        "outputId": "5a7de034-5efc-4f79-925b-86afc2a747a1"
      },
      "execution_count": null,
      "outputs": [
        {
          "output_type": "execute_result",
          "data": {
            "text/plain": [
              "<matplotlib.legend.Legend at 0x7f0a1ba740d0>"
            ]
          },
          "metadata": {},
          "execution_count": 53
        },
        {
          "output_type": "display_data",
          "data": {
            "text/plain": [
              "<Figure size 432x288 with 1 Axes>"
            ],
            "image/png": "[encoded data removed]"
          },
          "metadata": {
            "needs_background": "light"
          }
        }
      ]
    }
  ]
}